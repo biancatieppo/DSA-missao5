{
 "cells": [
  {
   "cell_type": "markdown",
   "metadata": {},
   "source": [
    "# <font color='blue'>Data Science Academy - Python Fundamentos - Capítulo 7</font>\n",
    "\n",
    "## Download: http://github.com/dsacademybr"
   ]
  },
  {
   "cell_type": "code",
   "execution_count": 1,
   "metadata": {},
   "outputs": [
    {
     "name": "stdout",
     "output_type": "stream",
     "text": [
      "Versão da Linguagem Python Usada Neste Jupyter Notebook: 3.8.8\n"
     ]
    }
   ],
   "source": [
    "# Versão da Linguagem Python\n",
    "from platform import python_version\n",
    "print('Versão da Linguagem Python Usada Neste Jupyter Notebook:', python_version())"
   ]
  },
  {
   "cell_type": "markdown",
   "metadata": {},
   "source": [
    "## Missão: Analisar o Comportamento de Compra de Consumidores."
   ]
  },
  {
   "cell_type": "markdown",
   "metadata": {},
   "source": [
    "## Nível de Dificuldade: Alto"
   ]
  },
  {
   "cell_type": "code",
   "execution_count": 2,
   "metadata": {},
   "outputs": [],
   "source": [
    "# Imports\n",
    "import pandas as pd\n",
    "import numpy as np\n",
    "\n",
    "import matplotlib.pyplot as plt\n",
    "from matplotlib import cm"
   ]
  },
  {
   "cell_type": "code",
   "execution_count": 3,
   "metadata": {},
   "outputs": [
    {
     "data": {
      "text/plain": [
       "'1.2.4'"
      ]
     },
     "execution_count": 3,
     "metadata": {},
     "output_type": "execute_result"
    }
   ],
   "source": [
    "pd.__version__"
   ]
  },
  {
   "cell_type": "code",
   "execution_count": 4,
   "metadata": {},
   "outputs": [
    {
     "data": {
      "text/plain": [
       "'1.20.1'"
      ]
     },
     "execution_count": 4,
     "metadata": {},
     "output_type": "execute_result"
    }
   ],
   "source": [
    "np.__version__"
   ]
  },
  {
   "cell_type": "code",
   "execution_count": 5,
   "metadata": {},
   "outputs": [
    {
     "data": {
      "text/html": [
       "<div>\n",
       "<style scoped>\n",
       "    .dataframe tbody tr th:only-of-type {\n",
       "        vertical-align: middle;\n",
       "    }\n",
       "\n",
       "    .dataframe tbody tr th {\n",
       "        vertical-align: top;\n",
       "    }\n",
       "\n",
       "    .dataframe thead th {\n",
       "        text-align: right;\n",
       "    }\n",
       "</style>\n",
       "<table border=\"1\" class=\"dataframe\">\n",
       "  <thead>\n",
       "    <tr style=\"text-align: right;\">\n",
       "      <th></th>\n",
       "      <th>Login</th>\n",
       "      <th>Idade</th>\n",
       "      <th>Sexo</th>\n",
       "      <th>Item ID</th>\n",
       "      <th>Nome do Item</th>\n",
       "      <th>Valor</th>\n",
       "    </tr>\n",
       "  </thead>\n",
       "  <tbody>\n",
       "    <tr>\n",
       "      <th>0</th>\n",
       "      <td>Aelalis34</td>\n",
       "      <td>38</td>\n",
       "      <td>Masculino</td>\n",
       "      <td>165</td>\n",
       "      <td>Bone Crushing Silver Skewer</td>\n",
       "      <td>3.37</td>\n",
       "    </tr>\n",
       "    <tr>\n",
       "      <th>1</th>\n",
       "      <td>Eolo46</td>\n",
       "      <td>21</td>\n",
       "      <td>Masculino</td>\n",
       "      <td>119</td>\n",
       "      <td>Stormbringer, Dark Blade of Ending Misery</td>\n",
       "      <td>2.32</td>\n",
       "    </tr>\n",
       "    <tr>\n",
       "      <th>2</th>\n",
       "      <td>Assastnya25</td>\n",
       "      <td>34</td>\n",
       "      <td>Masculino</td>\n",
       "      <td>174</td>\n",
       "      <td>Primitive Blade</td>\n",
       "      <td>2.46</td>\n",
       "    </tr>\n",
       "    <tr>\n",
       "      <th>3</th>\n",
       "      <td>Pheusrical25</td>\n",
       "      <td>21</td>\n",
       "      <td>Masculino</td>\n",
       "      <td>92</td>\n",
       "      <td>Final Critic</td>\n",
       "      <td>1.36</td>\n",
       "    </tr>\n",
       "    <tr>\n",
       "      <th>4</th>\n",
       "      <td>Aela59</td>\n",
       "      <td>23</td>\n",
       "      <td>Masculino</td>\n",
       "      <td>63</td>\n",
       "      <td>Stormfury Mace</td>\n",
       "      <td>1.27</td>\n",
       "    </tr>\n",
       "  </tbody>\n",
       "</table>\n",
       "</div>"
      ],
      "text/plain": [
       "          Login  Idade       Sexo  Item ID  \\\n",
       "0     Aelalis34     38  Masculino      165   \n",
       "1        Eolo46     21  Masculino      119   \n",
       "2   Assastnya25     34  Masculino      174   \n",
       "3  Pheusrical25     21  Masculino       92   \n",
       "4        Aela59     23  Masculino       63   \n",
       "\n",
       "                                Nome do Item  Valor  \n",
       "0                Bone Crushing Silver Skewer   3.37  \n",
       "1  Stormbringer, Dark Blade of Ending Misery   2.32  \n",
       "2                            Primitive Blade   2.46  \n",
       "3                               Final Critic   1.36  \n",
       "4                             Stormfury Mace   1.27  "
      ]
     },
     "execution_count": 5,
     "metadata": {},
     "output_type": "execute_result"
    }
   ],
   "source": [
    "# Carrega o arquivo\n",
    "load_file = \"dados_compras.json\"\n",
    "purchase_file = pd.read_json(load_file, orient = \"records\")\n",
    "purchase_file.head()"
   ]
  },
  {
   "cell_type": "markdown",
   "metadata": {},
   "source": [
    "## Contagem de Compradores"
   ]
  },
  {
   "cell_type": "code",
   "execution_count": 6,
   "metadata": {},
   "outputs": [
    {
     "data": {
      "text/html": [
       "<div>\n",
       "<style scoped>\n",
       "    .dataframe tbody tr th:only-of-type {\n",
       "        vertical-align: middle;\n",
       "    }\n",
       "\n",
       "    .dataframe tbody tr th {\n",
       "        vertical-align: top;\n",
       "    }\n",
       "\n",
       "    .dataframe thead th {\n",
       "        text-align: right;\n",
       "    }\n",
       "</style>\n",
       "<table border=\"1\" class=\"dataframe\">\n",
       "  <thead>\n",
       "    <tr style=\"text-align: right;\">\n",
       "      <th></th>\n",
       "      <th>Login</th>\n",
       "      <th>Idade</th>\n",
       "      <th>Sexo</th>\n",
       "    </tr>\n",
       "  </thead>\n",
       "  <tbody>\n",
       "    <tr>\n",
       "      <th>0</th>\n",
       "      <td>Aelalis34</td>\n",
       "      <td>38</td>\n",
       "      <td>Masculino</td>\n",
       "    </tr>\n",
       "    <tr>\n",
       "      <th>1</th>\n",
       "      <td>Eolo46</td>\n",
       "      <td>21</td>\n",
       "      <td>Masculino</td>\n",
       "    </tr>\n",
       "    <tr>\n",
       "      <th>2</th>\n",
       "      <td>Assastnya25</td>\n",
       "      <td>34</td>\n",
       "      <td>Masculino</td>\n",
       "    </tr>\n",
       "    <tr>\n",
       "      <th>3</th>\n",
       "      <td>Pheusrical25</td>\n",
       "      <td>21</td>\n",
       "      <td>Masculino</td>\n",
       "    </tr>\n",
       "    <tr>\n",
       "      <th>4</th>\n",
       "      <td>Aela59</td>\n",
       "      <td>23</td>\n",
       "      <td>Masculino</td>\n",
       "    </tr>\n",
       "  </tbody>\n",
       "</table>\n",
       "</div>"
      ],
      "text/plain": [
       "          Login  Idade       Sexo\n",
       "0     Aelalis34     38  Masculino\n",
       "1        Eolo46     21  Masculino\n",
       "2   Assastnya25     34  Masculino\n",
       "3  Pheusrical25     21  Masculino\n",
       "4        Aela59     23  Masculino"
      ]
     },
     "execution_count": 6,
     "metadata": {},
     "output_type": "execute_result"
    }
   ],
   "source": [
    "# Localiza as colunas relacionadas aos consumidores \n",
    "info_consumidores = purchase_file.loc[:, [\"Login\", \"Idade\", \"Sexo\"]]\n",
    "info_consumidores.head()"
   ]
  },
  {
   "cell_type": "code",
   "execution_count": 7,
   "metadata": {},
   "outputs": [
    {
     "data": {
      "text/html": [
       "<div>\n",
       "<style scoped>\n",
       "    .dataframe tbody tr th:only-of-type {\n",
       "        vertical-align: middle;\n",
       "    }\n",
       "\n",
       "    .dataframe tbody tr th {\n",
       "        vertical-align: top;\n",
       "    }\n",
       "\n",
       "    .dataframe thead th {\n",
       "        text-align: right;\n",
       "    }\n",
       "</style>\n",
       "<table border=\"1\" class=\"dataframe\">\n",
       "  <thead>\n",
       "    <tr style=\"text-align: right;\">\n",
       "      <th></th>\n",
       "      <th>Login</th>\n",
       "      <th>Idade</th>\n",
       "      <th>Sexo</th>\n",
       "    </tr>\n",
       "  </thead>\n",
       "  <tbody>\n",
       "    <tr>\n",
       "      <th>0</th>\n",
       "      <td>Aelalis34</td>\n",
       "      <td>38</td>\n",
       "      <td>Masculino</td>\n",
       "    </tr>\n",
       "    <tr>\n",
       "      <th>1</th>\n",
       "      <td>Eolo46</td>\n",
       "      <td>21</td>\n",
       "      <td>Masculino</td>\n",
       "    </tr>\n",
       "    <tr>\n",
       "      <th>2</th>\n",
       "      <td>Assastnya25</td>\n",
       "      <td>34</td>\n",
       "      <td>Masculino</td>\n",
       "    </tr>\n",
       "    <tr>\n",
       "      <th>3</th>\n",
       "      <td>Pheusrical25</td>\n",
       "      <td>21</td>\n",
       "      <td>Masculino</td>\n",
       "    </tr>\n",
       "    <tr>\n",
       "      <th>4</th>\n",
       "      <td>Aela59</td>\n",
       "      <td>23</td>\n",
       "      <td>Masculino</td>\n",
       "    </tr>\n",
       "  </tbody>\n",
       "</table>\n",
       "</div>"
      ],
      "text/plain": [
       "          Login  Idade       Sexo\n",
       "0     Aelalis34     38  Masculino\n",
       "1        Eolo46     21  Masculino\n",
       "2   Assastnya25     34  Masculino\n",
       "3  Pheusrical25     21  Masculino\n",
       "4        Aela59     23  Masculino"
      ]
     },
     "execution_count": 7,
     "metadata": {},
     "output_type": "execute_result"
    }
   ],
   "source": [
    "# Dropa as duplicatas na coluna de Login\n",
    "info_consumidores = info_consumidores.drop_duplicates()\n",
    "info_consumidores.head()"
   ]
  },
  {
   "cell_type": "code",
   "execution_count": 8,
   "metadata": {},
   "outputs": [
    {
     "data": {
      "text/plain": [
       "573"
      ]
     },
     "execution_count": 8,
     "metadata": {},
     "output_type": "execute_result"
    }
   ],
   "source": [
    "# Conta as linhas para total de consumidores\n",
    "total_consumidores = info_consumidores[\"Login\"].count()\n",
    "total_consumidores"
   ]
  },
  {
   "cell_type": "code",
   "execution_count": 9,
   "metadata": {},
   "outputs": [
    {
     "data": {
      "text/html": [
       "<div>\n",
       "<style scoped>\n",
       "    .dataframe tbody tr th:only-of-type {\n",
       "        vertical-align: middle;\n",
       "    }\n",
       "\n",
       "    .dataframe tbody tr th {\n",
       "        vertical-align: top;\n",
       "    }\n",
       "\n",
       "    .dataframe thead th {\n",
       "        text-align: right;\n",
       "    }\n",
       "</style>\n",
       "<table border=\"1\" class=\"dataframe\">\n",
       "  <thead>\n",
       "    <tr style=\"text-align: right;\">\n",
       "      <th></th>\n",
       "      <th>Total de consumidores</th>\n",
       "    </tr>\n",
       "  </thead>\n",
       "  <tbody>\n",
       "    <tr>\n",
       "      <th>0</th>\n",
       "      <td>573</td>\n",
       "    </tr>\n",
       "  </tbody>\n",
       "</table>\n",
       "</div>"
      ],
      "text/plain": [
       "   Total de consumidores\n",
       "0                    573"
      ]
     },
     "execution_count": 9,
     "metadata": {},
     "output_type": "execute_result"
    }
   ],
   "source": [
    "# Apresenta os resultados em formato DataFrame\n",
    "consumidores = pd.DataFrame({\"Total de consumidores\": [total_consumidores]})\n",
    "consumidores"
   ]
  },
  {
   "cell_type": "markdown",
   "metadata": {},
   "source": [
    "## Análise Geral de Compras"
   ]
  },
  {
   "cell_type": "code",
   "execution_count": 10,
   "metadata": {},
   "outputs": [],
   "source": [
    "# Análise geral das compras\n",
    "itens_exclusivos = len(purchase_file[\"Item ID\"].unique())\n",
    "media_compras = purchase_file[\"Valor\"].mean()\n",
    "total_compras = purchase_file[\"Valor\"].count()\n",
    "rendimento = purchase_file[\"Valor\"].sum()"
   ]
  },
  {
   "cell_type": "code",
   "execution_count": 11,
   "metadata": {},
   "outputs": [
    {
     "data": {
      "text/html": [
       "<div>\n",
       "<style scoped>\n",
       "    .dataframe tbody tr th:only-of-type {\n",
       "        vertical-align: middle;\n",
       "    }\n",
       "\n",
       "    .dataframe tbody tr th {\n",
       "        vertical-align: top;\n",
       "    }\n",
       "\n",
       "    .dataframe thead th {\n",
       "        text-align: right;\n",
       "    }\n",
       "</style>\n",
       "<table border=\"1\" class=\"dataframe\">\n",
       "  <thead>\n",
       "    <tr style=\"text-align: right;\">\n",
       "      <th></th>\n",
       "      <th>Número de itens exclusivos</th>\n",
       "      <th>Preço médio de compra</th>\n",
       "      <th>Número total de compras</th>\n",
       "      <th>Rendimento total</th>\n",
       "    </tr>\n",
       "  </thead>\n",
       "  <tbody>\n",
       "    <tr>\n",
       "      <th>0</th>\n",
       "      <td>183</td>\n",
       "      <td>$2.93</td>\n",
       "      <td>780</td>\n",
       "      <td>$2,286.33</td>\n",
       "    </tr>\n",
       "  </tbody>\n",
       "</table>\n",
       "</div>"
      ],
      "text/plain": [
       "   Número de itens exclusivos Preço médio de compra  Número total de compras  \\\n",
       "0                         183                 $2.93                      780   \n",
       "\n",
       "  Rendimento total  \n",
       "0        $2,286.33  "
      ]
     },
     "execution_count": 11,
     "metadata": {},
     "output_type": "execute_result"
    }
   ],
   "source": [
    "# Apresenta a análise em formato DataFrame\n",
    "analise_compras = pd.DataFrame({\"Número de itens exclusivos\": [itens_exclusivos],\n",
    "                                \"Preço médio de compra\": [media_compras],\n",
    "                                \"Número total de compras\": [total_compras],\n",
    "                                \"Rendimento total\": [rendimento]\n",
    "                               })\n",
    "\n",
    "analise_compras = analise_compras.round(2)\n",
    "analise_compras[\"Preço médio de compra\"] = analise_compras[\"Preço médio de compra\"].map(\"${:,.2f}\".format)\n",
    "analise_compras[\"Rendimento total\"] = analise_compras[\"Rendimento total\"].map(\"${:,.2f}\".format)\n",
    "analise_compras"
   ]
  },
  {
   "cell_type": "markdown",
   "metadata": {},
   "source": [
    "## Informações Demográficas Por Gênero"
   ]
  },
  {
   "cell_type": "code",
   "execution_count": 12,
   "metadata": {},
   "outputs": [
    {
     "data": {
      "text/plain": [
       "Masculino                465\n",
       "Feminino                 100\n",
       "Outro / Não Divulgado      8\n",
       "Name: Sexo, dtype: int64"
      ]
     },
     "execution_count": 12,
     "metadata": {},
     "output_type": "execute_result"
    }
   ],
   "source": [
    "# Contagem dos valores na coluna de genêros\n",
    "compradores_genero = info_consumidores[\"Sexo\"].value_counts()\n",
    "compradores_genero"
   ]
  },
  {
   "cell_type": "code",
   "execution_count": 13,
   "metadata": {},
   "outputs": [
    {
     "data": {
      "text/plain": [
       "Masculino                81.151832\n",
       "Feminino                 17.452007\n",
       "Outro / Não Divulgado     1.396161\n",
       "Name: Sexo, dtype: float64"
      ]
     },
     "execution_count": 13,
     "metadata": {},
     "output_type": "execute_result"
    }
   ],
   "source": [
    "# Cálculo da porcentagem\n",
    "porcentagem = (compradores_genero / total_consumidores) * 100\n",
    "porcentagem"
   ]
  },
  {
   "cell_type": "code",
   "execution_count": 14,
   "metadata": {},
   "outputs": [
    {
     "data": {
      "text/html": [
       "<div>\n",
       "<style scoped>\n",
       "    .dataframe tbody tr th:only-of-type {\n",
       "        vertical-align: middle;\n",
       "    }\n",
       "\n",
       "    .dataframe tbody tr th {\n",
       "        vertical-align: top;\n",
       "    }\n",
       "\n",
       "    .dataframe thead th {\n",
       "        text-align: right;\n",
       "    }\n",
       "</style>\n",
       "<table border=\"1\" class=\"dataframe\">\n",
       "  <thead>\n",
       "    <tr style=\"text-align: right;\">\n",
       "      <th></th>\n",
       "      <th>Sexo</th>\n",
       "      <th>Porcentagem</th>\n",
       "    </tr>\n",
       "  </thead>\n",
       "  <tbody>\n",
       "    <tr>\n",
       "      <th>Masculino</th>\n",
       "      <td>465</td>\n",
       "      <td>81.2</td>\n",
       "    </tr>\n",
       "    <tr>\n",
       "      <th>Feminino</th>\n",
       "      <td>100</td>\n",
       "      <td>17.5</td>\n",
       "    </tr>\n",
       "    <tr>\n",
       "      <th>Outro / Não Divulgado</th>\n",
       "      <td>8</td>\n",
       "      <td>1.4</td>\n",
       "    </tr>\n",
       "  </tbody>\n",
       "</table>\n",
       "</div>"
      ],
      "text/plain": [
       "                       Sexo  Porcentagem\n",
       "Masculino               465         81.2\n",
       "Feminino                100         17.5\n",
       "Outro / Não Divulgado     8          1.4"
      ]
     },
     "execution_count": 14,
     "metadata": {},
     "output_type": "execute_result"
    }
   ],
   "source": [
    "# Apresenta a análise em formato DataFrame\n",
    "analise_genero = pd.DataFrame({\"Sexo\": compradores_genero,\n",
    "                               \"Porcentagem\": porcentagem\n",
    "                              })\n",
    "\n",
    "analise_genero = analise_genero.round(1)\n",
    "#analise_genero[\"Porcentagem\"] = analise_genero[\"Porcentagem\"].map(\"{:,.1f}%\".format)\n",
    "analise_genero"
   ]
  },
  {
   "cell_type": "code",
   "execution_count": 15,
   "metadata": {},
   "outputs": [],
   "source": [
    "# Ajusta os labels\n",
    "labels = [i + ' ' + '[' + str(analise_genero[\"Porcentagem\"][i]) + '%' + ']'  for i in analise_genero.index]"
   ]
  },
  {
   "cell_type": "code",
   "execution_count": 16,
   "metadata": {},
   "outputs": [
    {
     "data": {
      "image/png": "[encoded data removed]",
      "text/plain": [
       "<Figure size 432x288 with 1 Axes>"
      ]
     },
     "metadata": {},
     "output_type": "display_data"
    }
   ],
   "source": [
    "# Plot\n",
    "\n",
    "# Mapa de cores\n",
    "cs = cm.Pastel1(np.arange(100))\n",
    "\n",
    "# Cria a figura\n",
    "f = plt.figure()\n",
    "\n",
    "# Pie Plot\n",
    "plt.pie(analise_genero[\"Porcentagem\"], labeldistance = 0, radius = 2.4, colors = cs, wedgeprops = dict(width = 0.5))\n",
    "plt.legend(labels = labels, loc = 'center', prop = {'size':12})\n",
    "plt.title(\"Análise Demográfica\", fontdict = {'fontsize': 18,'fontweight': 18, 'verticalalignment': 'center_baseline', 'horizontalalignment': 'center'}, loc = 'center')\n",
    "plt.show()"
   ]
  },
  {
   "cell_type": "markdown",
   "metadata": {},
   "source": [
    "## Análise de Compras por Gênero"
   ]
  },
  {
   "cell_type": "code",
   "execution_count": 17,
   "metadata": {},
   "outputs": [
    {
     "data": {
      "text/plain": [
       "Sexo\n",
       "Feminino                 2.815515\n",
       "Masculino                2.950521\n",
       "Outro / Não Divulgado    3.249091\n",
       "Name: Preço médio de compra, dtype: float64"
      ]
     },
     "execution_count": 17,
     "metadata": {},
     "output_type": "execute_result"
    }
   ],
   "source": [
    "# Agrupamentos\n",
    "numero_compras_genero = purchase_file.groupby([\"Sexo\"]).count()[\"Valor\"].rename(\"Número de compras\")\n",
    "preco_medio_genero = purchase_file.groupby([\"Sexo\"]).mean()[\"Valor\"].rename(\"Preço médio de compra\")\n",
    "total_compras_genero = purchase_file.groupby([\"Sexo\"]).sum()[\"Valor\"].rename(\"Total de compras\")\n",
    "\n",
    "total_compras_normalizado = total_compras_genero / analise_genero[\"Sexo\"]\n",
    "preco_medio_genero"
   ]
  },
  {
   "cell_type": "code",
   "execution_count": 18,
   "metadata": {},
   "outputs": [
    {
     "data": {
      "text/html": [
       "<div>\n",
       "<style scoped>\n",
       "    .dataframe tbody tr th:only-of-type {\n",
       "        vertical-align: middle;\n",
       "    }\n",
       "\n",
       "    .dataframe tbody tr th {\n",
       "        vertical-align: top;\n",
       "    }\n",
       "\n",
       "    .dataframe thead th {\n",
       "        text-align: right;\n",
       "    }\n",
       "</style>\n",
       "<table border=\"1\" class=\"dataframe\">\n",
       "  <thead>\n",
       "    <tr style=\"text-align: right;\">\n",
       "      <th></th>\n",
       "      <th>Número de compras</th>\n",
       "      <th>Preço médio de compra</th>\n",
       "      <th>Total de compras</th>\n",
       "      <th>Total de compras normalizado</th>\n",
       "    </tr>\n",
       "  </thead>\n",
       "  <tbody>\n",
       "    <tr>\n",
       "      <th>Feminino</th>\n",
       "      <td>136</td>\n",
       "      <td>$2.82</td>\n",
       "      <td>$382.91</td>\n",
       "      <td>$3.83</td>\n",
       "    </tr>\n",
       "    <tr>\n",
       "      <th>Masculino</th>\n",
       "      <td>633</td>\n",
       "      <td>$2.95</td>\n",
       "      <td>$1,867.68</td>\n",
       "      <td>$4.02</td>\n",
       "    </tr>\n",
       "    <tr>\n",
       "      <th>Outro / Não Divulgado</th>\n",
       "      <td>11</td>\n",
       "      <td>$3.25</td>\n",
       "      <td>$35.74</td>\n",
       "      <td>$4.47</td>\n",
       "    </tr>\n",
       "  </tbody>\n",
       "</table>\n",
       "</div>"
      ],
      "text/plain": [
       "                       Número de compras Preço médio de compra  \\\n",
       "Feminino                             136                 $2.82   \n",
       "Masculino                            633                 $2.95   \n",
       "Outro / Não Divulgado                 11                 $3.25   \n",
       "\n",
       "                      Total de compras Total de compras normalizado  \n",
       "Feminino                       $382.91                        $3.83  \n",
       "Masculino                    $1,867.68                        $4.02  \n",
       "Outro / Não Divulgado           $35.74                        $4.47  "
      ]
     },
     "execution_count": 18,
     "metadata": {},
     "output_type": "execute_result"
    }
   ],
   "source": [
    "analise_compras_genero = pd.DataFrame({\"Número de compras\": numero_compras_genero,\n",
    "                                       \"Preço médio de compra\": preco_medio_genero,\n",
    "                                       \"Total de compras\": total_compras_genero,\n",
    "                                       \"Total de compras normalizado\": total_compras_normalizado\n",
    "                                      })\n",
    "\n",
    "analise_compras_genero = analise_compras_genero.round(2)\n",
    "analise_compras_genero[\"Preço médio de compra\"] = analise_compras_genero[\"Preço médio de compra\"].map(\"${:,.2f}\".format)\n",
    "analise_compras_genero[\"Total de compras\"] = analise_compras_genero[\"Total de compras\"].map(\"${:,.2f}\".format)\n",
    "analise_compras_genero[\"Total de compras normalizado\"] = analise_compras_genero[\"Total de compras normalizado\"].map(\"${:,.2f}\".format)\n",
    "analise_compras_genero"
   ]
  },
  {
   "cell_type": "code",
   "execution_count": 19,
   "metadata": {},
   "outputs": [
    {
     "data": {
      "text/html": [
       "<div>\n",
       "<style scoped>\n",
       "    .dataframe tbody tr th:only-of-type {\n",
       "        vertical-align: middle;\n",
       "    }\n",
       "\n",
       "    .dataframe tbody tr th {\n",
       "        vertical-align: top;\n",
       "    }\n",
       "\n",
       "    .dataframe thead th {\n",
       "        text-align: right;\n",
       "    }\n",
       "</style>\n",
       "<table border=\"1\" class=\"dataframe\">\n",
       "  <thead>\n",
       "    <tr style=\"text-align: right;\">\n",
       "      <th></th>\n",
       "      <th>Quantidade</th>\n",
       "      <th>Porcentagem</th>\n",
       "      <th>Valor Unitário</th>\n",
       "      <th>Total de compras</th>\n",
       "    </tr>\n",
       "  </thead>\n",
       "  <tbody>\n",
       "    <tr>\n",
       "      <th>Menos de 15 anos</th>\n",
       "      <td>63</td>\n",
       "      <td>11.0%</td>\n",
       "      <td>$2.86</td>\n",
       "      <td>$180.41</td>\n",
       "    </tr>\n",
       "    <tr>\n",
       "      <th>15 a 19</th>\n",
       "      <td>133</td>\n",
       "      <td>23.2%</td>\n",
       "      <td>$2.91</td>\n",
       "      <td>$386.42</td>\n",
       "    </tr>\n",
       "    <tr>\n",
       "      <th>20 a 24</th>\n",
       "      <td>336</td>\n",
       "      <td>58.6%</td>\n",
       "      <td>$2.91</td>\n",
       "      <td>$978.77</td>\n",
       "    </tr>\n",
       "    <tr>\n",
       "      <th>25 a 29</th>\n",
       "      <td>125</td>\n",
       "      <td>21.8%</td>\n",
       "      <td>$2.96</td>\n",
       "      <td>$370.33</td>\n",
       "    </tr>\n",
       "    <tr>\n",
       "      <th>30 a 34</th>\n",
       "      <td>64</td>\n",
       "      <td>11.2%</td>\n",
       "      <td>$3.08</td>\n",
       "      <td>$197.25</td>\n",
       "    </tr>\n",
       "    <tr>\n",
       "      <th>35 a 39</th>\n",
       "      <td>42</td>\n",
       "      <td>7.3%</td>\n",
       "      <td>$2.84</td>\n",
       "      <td>$119.40</td>\n",
       "    </tr>\n",
       "    <tr>\n",
       "      <th>Mais de 40 anos</th>\n",
       "      <td>17</td>\n",
       "      <td>3.0%</td>\n",
       "      <td>$3.16</td>\n",
       "      <td>$53.75</td>\n",
       "    </tr>\n",
       "  </tbody>\n",
       "</table>\n",
       "</div>"
      ],
      "text/plain": [
       "                  Quantidade Porcentagem Valor Unitário Total de compras\n",
       "Menos de 15 anos          63       11.0%          $2.86          $180.41\n",
       "15 a 19                  133       23.2%          $2.91          $386.42\n",
       "20 a 24                  336       58.6%          $2.91          $978.77\n",
       "25 a 29                  125       21.8%          $2.96          $370.33\n",
       "30 a 34                   64       11.2%          $3.08          $197.25\n",
       "35 a 39                   42        7.3%          $2.84          $119.40\n",
       "Mais de 40 anos           17        3.0%          $3.16           $53.75"
      ]
     },
     "execution_count": 19,
     "metadata": {},
     "output_type": "execute_result"
    }
   ],
   "source": [
    "bins_idade = [0, 14.99, 19.99, 24.99, 29.99, 34.99, 39.99, 100]\n",
    "range_idade = [\"Menos de 15 anos\", \"15 a 19\", \"20 a 24\", \"25 a 29\", \"30 a 34\", \"35 a 39\", \"Mais de 40 anos\"]\n",
    "\n",
    "purchase_file[\"Range de Idades\"] = pd.cut(purchase_file[\"Idade\"], bins_idade, labels = range_idade)\n",
    "\n",
    "numero_consumidores_idade = purchase_file[\"Range de Idades\"].value_counts()\n",
    "preco_medio_idade = purchase_file.groupby([\"Range de Idades\"]).mean()[\"Valor\"]\n",
    "total_compras_idade = purchase_file.groupby([\"Range de Idades\"]).sum()[\"Valor\"]\n",
    "\n",
    "porcentagem_idade = (numero_consumidores_idade / total_consumidores) * 100\n",
    "\n",
    "analise_idade = pd.DataFrame({\"Quantidade\": numero_consumidores_idade, \n",
    "                              \"Porcentagem\": porcentagem_idade, \n",
    "                              \"Valor Unitário\": preco_medio_idade, \n",
    "                              \"Total de compras\": total_compras_idade})\n",
    "\n",
    "analise_idade[\"Porcentagem\"] = analise_idade[\"Porcentagem\"].map(\"{:,.1f}%\".format)\n",
    "analise_idade[\"Valor Unitário\"] = analise_idade[\"Valor Unitário\"].map(\"${:,.2f}\".format)\n",
    "analise_idade[\"Total de compras\"] = analise_idade[\"Total de compras\"].map(\"${:,.2f}\".format)\n",
    "analise_idade"
   ]
  },
  {
   "cell_type": "markdown",
   "metadata": {},
   "source": [
    "## Consumidores Mais Populares (Top 5)"
   ]
  },
  {
   "cell_type": "code",
   "execution_count": 20,
   "metadata": {},
   "outputs": [
    {
     "data": {
      "text/html": [
       "<div>\n",
       "<style scoped>\n",
       "    .dataframe tbody tr th:only-of-type {\n",
       "        vertical-align: middle;\n",
       "    }\n",
       "\n",
       "    .dataframe tbody tr th {\n",
       "        vertical-align: top;\n",
       "    }\n",
       "\n",
       "    .dataframe thead th {\n",
       "        text-align: right;\n",
       "    }\n",
       "</style>\n",
       "<table border=\"1\" class=\"dataframe\">\n",
       "  <thead>\n",
       "    <tr style=\"text-align: right;\">\n",
       "      <th></th>\n",
       "      <th>Número de compras</th>\n",
       "      <th>Preço médio de compra</th>\n",
       "      <th>Total de compras</th>\n",
       "    </tr>\n",
       "    <tr>\n",
       "      <th>Login</th>\n",
       "      <th></th>\n",
       "      <th></th>\n",
       "      <th></th>\n",
       "    </tr>\n",
       "  </thead>\n",
       "  <tbody>\n",
       "    <tr>\n",
       "      <th>Qarwen67</th>\n",
       "      <td>4</td>\n",
       "      <td>$2.49</td>\n",
       "      <td>$9.97</td>\n",
       "    </tr>\n",
       "    <tr>\n",
       "      <th>Sondim43</th>\n",
       "      <td>3</td>\n",
       "      <td>$3.13</td>\n",
       "      <td>$9.38</td>\n",
       "    </tr>\n",
       "    <tr>\n",
       "      <th>Tillyrin30</th>\n",
       "      <td>3</td>\n",
       "      <td>$3.06</td>\n",
       "      <td>$9.19</td>\n",
       "    </tr>\n",
       "    <tr>\n",
       "      <th>Lisistaya47</th>\n",
       "      <td>3</td>\n",
       "      <td>$3.06</td>\n",
       "      <td>$9.19</td>\n",
       "    </tr>\n",
       "    <tr>\n",
       "      <th>Tyisriphos58</th>\n",
       "      <td>2</td>\n",
       "      <td>$4.59</td>\n",
       "      <td>$9.18</td>\n",
       "    </tr>\n",
       "  </tbody>\n",
       "</table>\n",
       "</div>"
      ],
      "text/plain": [
       "              Número de compras Preço médio de compra Total de compras\n",
       "Login                                                                 \n",
       "Qarwen67                      4                 $2.49            $9.97\n",
       "Sondim43                      3                 $3.13            $9.38\n",
       "Tillyrin30                    3                 $3.06            $9.19\n",
       "Lisistaya47                   3                 $3.06            $9.19\n",
       "Tyisriphos58                  2                 $4.59            $9.18"
      ]
     },
     "execution_count": 20,
     "metadata": {},
     "output_type": "execute_result"
    }
   ],
   "source": [
    "# Implemente aqui sua solução\n",
    "numero_compras_login = purchase_file.groupby([\"Login\"]).count()[\"Valor\"].rename(\"Número de compras\")\n",
    "preco_medio_login = purchase_file.groupby([\"Login\"]).mean()[\"Valor\"].rename(\"Preço médio de compra\")\n",
    "total_compras_login = purchase_file.groupby([\"Login\"]).sum()[\"Valor\"].rename(\"Total de compras\")\n",
    "\n",
    "consumidores_populares = pd.DataFrame({\"Número de compras\": numero_compras_login,\n",
    "                                       \"Preço médio de compra\": preco_medio_login,\n",
    "                                       \"Total de compras\": total_compras_login,\n",
    "                                      })\n",
    "\n",
    "consumidores_populares = consumidores_populares.round(2)\n",
    "consumidores_populares[\"Preço médio de compra\"] = consumidores_populares[\"Preço médio de compra\"].map(\"${:,.2f}\".format)\n",
    "consumidores_populares[\"Total de compras\"] = consumidores_populares[\"Total de compras\"].map(\"${:,.2f}\".format)\n",
    "consumidores_populares.sort_values(by = \"Total de compras\", ascending = False).head()"
   ]
  },
  {
   "cell_type": "markdown",
   "metadata": {},
   "source": [
    "## Itens Mais Populares"
   ]
  },
  {
   "cell_type": "code",
   "execution_count": 21,
   "metadata": {},
   "outputs": [
    {
     "data": {
      "text/html": [
       "<div>\n",
       "<style scoped>\n",
       "    .dataframe tbody tr th:only-of-type {\n",
       "        vertical-align: middle;\n",
       "    }\n",
       "\n",
       "    .dataframe tbody tr th {\n",
       "        vertical-align: top;\n",
       "    }\n",
       "\n",
       "    .dataframe thead th {\n",
       "        text-align: right;\n",
       "    }\n",
       "</style>\n",
       "<table border=\"1\" class=\"dataframe\">\n",
       "  <thead>\n",
       "    <tr style=\"text-align: right;\">\n",
       "      <th></th>\n",
       "      <th>Número de compras</th>\n",
       "      <th>Preço médio de compra</th>\n",
       "      <th>Total de compras</th>\n",
       "    </tr>\n",
       "    <tr>\n",
       "      <th>Nome do Item</th>\n",
       "      <th></th>\n",
       "      <th></th>\n",
       "      <th></th>\n",
       "    </tr>\n",
       "  </thead>\n",
       "  <tbody>\n",
       "    <tr>\n",
       "      <th>Final Critic</th>\n",
       "      <td>14</td>\n",
       "      <td>$2.76</td>\n",
       "      <td>$38.60</td>\n",
       "    </tr>\n",
       "    <tr>\n",
       "      <th>Arcane Gem</th>\n",
       "      <td>11</td>\n",
       "      <td>$2.23</td>\n",
       "      <td>$24.53</td>\n",
       "    </tr>\n",
       "    <tr>\n",
       "      <th>Betrayal, Whisper of Grieving Widows</th>\n",
       "      <td>11</td>\n",
       "      <td>$2.35</td>\n",
       "      <td>$25.85</td>\n",
       "    </tr>\n",
       "    <tr>\n",
       "      <th>Stormcaller</th>\n",
       "      <td>10</td>\n",
       "      <td>$3.46</td>\n",
       "      <td>$34.65</td>\n",
       "    </tr>\n",
       "    <tr>\n",
       "      <th>Woeful Adamantite Claymore</th>\n",
       "      <td>9</td>\n",
       "      <td>$1.24</td>\n",
       "      <td>$11.16</td>\n",
       "    </tr>\n",
       "  </tbody>\n",
       "</table>\n",
       "</div>"
      ],
      "text/plain": [
       "                                      Número de compras Preço médio de compra  \\\n",
       "Nome do Item                                                                    \n",
       "Final Critic                                         14                 $2.76   \n",
       "Arcane Gem                                           11                 $2.23   \n",
       "Betrayal, Whisper of Grieving Widows                 11                 $2.35   \n",
       "Stormcaller                                          10                 $3.46   \n",
       "Woeful Adamantite Claymore                            9                 $1.24   \n",
       "\n",
       "                                     Total de compras  \n",
       "Nome do Item                                           \n",
       "Final Critic                                   $38.60  \n",
       "Arcane Gem                                     $24.53  \n",
       "Betrayal, Whisper of Grieving Widows           $25.85  \n",
       "Stormcaller                                    $34.65  \n",
       "Woeful Adamantite Claymore                     $11.16  "
      ]
     },
     "execution_count": 21,
     "metadata": {},
     "output_type": "execute_result"
    }
   ],
   "source": [
    "numero_compras_itens = purchase_file.groupby([\"Nome do Item\"]).count()[\"Valor\"].rename(\"Número de compras\")\n",
    "preco_medio_itens = purchase_file.groupby([\"Nome do Item\"]).mean()[\"Valor\"].rename(\"Preço médio de compra\")\n",
    "total_compras_itens = purchase_file.groupby([\"Nome do Item\"]).sum()[\"Valor\"].rename(\"Total de compras\")\n",
    "\n",
    "itens_populares = pd.DataFrame({\"Número de compras\": numero_compras_itens,\n",
    "                                \"Preço médio de compra\": preco_medio_itens,\n",
    "                                \"Total de compras\": total_compras_itens,\n",
    "                               })\n",
    "\n",
    "itens_populares[\"Preço médio de compra\"] = itens_populares[\"Preço médio de compra\"].map(\"${:,.2f}\".format)\n",
    "itens_populares[\"Total de compras\"] = itens_populares[\"Total de compras\"].map(\"${:,.2f}\".format)\n",
    "itens_populares.sort_values(by = \"Número de compras\", ascending = False).head()"
   ]
  },
  {
   "cell_type": "markdown",
   "metadata": {},
   "source": [
    "## Itens Mais Lucrativos"
   ]
  },
  {
   "cell_type": "code",
   "execution_count": 22,
   "metadata": {},
   "outputs": [
    {
     "data": {
      "text/html": [
       "<div>\n",
       "<style scoped>\n",
       "    .dataframe tbody tr th:only-of-type {\n",
       "        vertical-align: middle;\n",
       "    }\n",
       "\n",
       "    .dataframe tbody tr th {\n",
       "        vertical-align: top;\n",
       "    }\n",
       "\n",
       "    .dataframe thead th {\n",
       "        text-align: right;\n",
       "    }\n",
       "</style>\n",
       "<table border=\"1\" class=\"dataframe\">\n",
       "  <thead>\n",
       "    <tr style=\"text-align: right;\">\n",
       "      <th></th>\n",
       "      <th>Número de compras</th>\n",
       "      <th>Preço médio de compra</th>\n",
       "      <th>Total de compras</th>\n",
       "    </tr>\n",
       "    <tr>\n",
       "      <th>Nome do Item</th>\n",
       "      <th></th>\n",
       "      <th></th>\n",
       "      <th></th>\n",
       "    </tr>\n",
       "  </thead>\n",
       "  <tbody>\n",
       "    <tr>\n",
       "      <th>Final Critic</th>\n",
       "      <td>14</td>\n",
       "      <td>$2.76</td>\n",
       "      <td>$38.60</td>\n",
       "    </tr>\n",
       "    <tr>\n",
       "      <th>Retribution Axe</th>\n",
       "      <td>9</td>\n",
       "      <td>$4.14</td>\n",
       "      <td>$37.26</td>\n",
       "    </tr>\n",
       "    <tr>\n",
       "      <th>Stormcaller</th>\n",
       "      <td>10</td>\n",
       "      <td>$3.46</td>\n",
       "      <td>$34.65</td>\n",
       "    </tr>\n",
       "    <tr>\n",
       "      <th>Spectral Diamond Doomblade</th>\n",
       "      <td>7</td>\n",
       "      <td>$4.25</td>\n",
       "      <td>$29.75</td>\n",
       "    </tr>\n",
       "    <tr>\n",
       "      <th>Orenmir</th>\n",
       "      <td>6</td>\n",
       "      <td>$4.95</td>\n",
       "      <td>$29.70</td>\n",
       "    </tr>\n",
       "  </tbody>\n",
       "</table>\n",
       "</div>"
      ],
      "text/plain": [
       "                            Número de compras Preço médio de compra  \\\n",
       "Nome do Item                                                          \n",
       "Final Critic                               14                 $2.76   \n",
       "Retribution Axe                             9                 $4.14   \n",
       "Stormcaller                                10                 $3.46   \n",
       "Spectral Diamond Doomblade                  7                 $4.25   \n",
       "Orenmir                                     6                 $4.95   \n",
       "\n",
       "                           Total de compras  \n",
       "Nome do Item                                 \n",
       "Final Critic                         $38.60  \n",
       "Retribution Axe                      $37.26  \n",
       "Stormcaller                          $34.65  \n",
       "Spectral Diamond Doomblade           $29.75  \n",
       "Orenmir                              $29.70  "
      ]
     },
     "metadata": {},
     "output_type": "display_data"
    }
   ],
   "source": [
    "numero_compras_lucrativos = purchase_file.groupby([\"Nome do Item\"]).count()[\"Valor\"].rename(\"Número de compras\")\n",
    "preco_medio_lucrativos = purchase_file.groupby([\"Nome do Item\"]).mean()[\"Valor\"].rename(\"Preço médio de compra\")\n",
    "total_compras_lucrativos = purchase_file.groupby([\"Nome do Item\"]).sum()[\"Valor\"].rename(\"Total de compras\")\n",
    "\n",
    "itens_lucrativos = pd.DataFrame({\"Número de compras\": numero_compras_lucrativos,\n",
    "                                \"Preço médio de compra\": preco_medio_lucrativos,\n",
    "                                \"Total de compras\": total_compras_lucrativos,\n",
    "                                })\n",
    "\n",
    "itens_lucrativos[\"Total compras\"] = itens_lucrativos[\"Total de compras\"]\n",
    "itens_lucrativos[\"Preço médio de compra\"] = itens_lucrativos[\"Preço médio de compra\"].map(\"${:,.2f}\".format)\n",
    "itens_lucrativos[\"Total de compras\"] = itens_lucrativos[\"Total de compras\"].map(\"${:,.2f}\".format)\n",
    "display(itens_lucrativos.sort_values(by = \"Total compras\", ascending = False).head()[\\\n",
    "                    [\"Número de compras\", \"Preço médio de compra\", \"Total de compras\"]])"
   ]
  }
 ],
 "metadata": {
  "kernelspec": {
   "display_name": "Python 3",
   "language": "python",
   "name": "python3"
  },
  "language_info": {
   "codemirror_mode": {
    "name": "ipython",
    "version": 3
   },
   "file_extension": ".py",
   "mimetype": "text/x-python",
   "name": "python",
   "nbconvert_exporter": "python",
   "pygments_lexer": "ipython3",
   "version": "3.8.8"
  }
 },
 "nbformat": 4,
 "nbformat_minor": 2
}
